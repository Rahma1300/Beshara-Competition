{
  "nbformat": 4,
  "nbformat_minor": 0,
  "metadata": {
    "colab": {
      "provenance": []
    },
    "kernelspec": {
      "name": "python3",
      "display_name": "Python 3"
    },
    "language_info": {
      "name": "python"
    }
  },
  "cells": [
    {
      "cell_type": "code",
      "execution_count": 44,
      "metadata": {
        "id": "-YSxnFH537pt"
      },
      "outputs": [],
      "source": [
        "#Importing Libraries\n",
        "import pandas as pd\n",
        "import numpy as np\n",
        "from sklearn.ensemble import RandomForestClassifier\n",
        "from sklearn.preprocessing import StandardScaler, OrdinalEncoder\n",
        "from sklearn.feature_selection import SelectFromModel\n",
        "from sklearn.tree import DecisionTreeClassifier\n",
        "from sklearn.metrics import f1_score\n",
        "from sklearn.model_selection import train_test_split"
      ]
    },
    {
      "cell_type": "code",
      "source": [
        "#reading the train dataset\n",
        "df_train = pd.read_csv(\"/content/traindata.csv\")"
      ],
      "metadata": {
        "id": "c4YHrI_T4bP8"
      },
      "execution_count": 45,
      "outputs": []
    },
    {
      "cell_type": "code",
      "source": [
        "#encodeing the categorical data to numerical\n",
        "encoder = OrdinalEncoder(handle_unknown=\"use_encoded_value\", unknown_value=-1)\n",
        "df_train[[\"protocol_type\", \"service\",\"flag\"]] = encoder.fit_transform(df_train[[\"protocol_type\", \"service\", \"flag\"]])"
      ],
      "metadata": {
        "id": "loBoqvAw6QuU"
      },
      "execution_count": 46,
      "outputs": []
    },
    {
      "cell_type": "code",
      "source": [
        "#splitting the train data\n",
        "Y_train = df_train['Class']\n",
        "x_train = df_train.drop('Class', axis=1)"
      ],
      "metadata": {
        "id": "K_UZUfGG62Vo"
      },
      "execution_count": 47,
      "outputs": []
    },
    {
      "cell_type": "code",
      "source": [
        "X_train, X_test, y_train, y_test = train_test_split(x_train, Y_train, test_size=0.4, random_state=42)"
      ],
      "metadata": {
        "id": "dqS0LXF6e_34"
      },
      "execution_count": 48,
      "outputs": []
    },
    {
      "cell_type": "code",
      "source": [
        "# Scale numerical features\n",
        "scaler = StandardScaler()\n",
        "\n",
        "X_train_scaled = scaler.fit_transform(X_train)\n",
        "X_test_scaled = scaler.transform(X_test)"
      ],
      "metadata": {
        "id": "sCVz5Zfx7Ht_"
      },
      "execution_count": 49,
      "outputs": []
    },
    {
      "cell_type": "code",
      "source": [
        "#feature selection\n",
        "rf = RandomForestClassifier(n_estimators=100, random_state=42)\n",
        "rf.fit(X_train_scaled, y_train)\n",
        "\n",
        "selector = SelectFromModel(rf, threshold=\"median\", prefit=True)\n",
        "\n",
        "X_train_selected = selector.transform(X_train_scaled)\n",
        "X_test_selected = selector.transform(X_test_scaled)\n",
        "\n",
        "print(\"Original Features:\", X_train_scaled.shape[1])\n",
        "print(\"Selected Features:\", X_train_selected.shape[1])"
      ],
      "metadata": {
        "colab": {
          "base_uri": "https://localhost:8080/"
        },
        "id": "TZKH6dnI8VZd",
        "outputId": "c7e93ed7-b2f6-460c-eaca-84921e57cdc7"
      },
      "execution_count": 50,
      "outputs": [
        {
          "output_type": "stream",
          "name": "stdout",
          "text": [
            "Original Features: 43\n",
            "Selected Features: 22\n"
          ]
        }
      ]
    },
    {
      "cell_type": "code",
      "source": [
        "tree = DecisionTreeClassifier(\n",
        "    random_state=0,\n",
        "    ccp_alpha=0.009,\n",
        "    max_depth=8,\n",
        "    min_samples_split=10,\n",
        "    min_samples_leaf=5\n",
        "    )\n",
        "tree.fit(X_train_selected, y_train)\n",
        "\n",
        "print(\"Accuracy on training set: {:.3f}\".format(tree.score(X_train_selected, y_train)))\n",
        "print(\"Accuracy on test set: {:.3f}\".format(tree.score(X_test_selected, y_test)))"
      ],
      "metadata": {
        "colab": {
          "base_uri": "https://localhost:8080/"
        },
        "id": "wZO53azM_NHn",
        "outputId": "0443244a-368d-4743-bc99-69040a7c0afd"
      },
      "execution_count": 51,
      "outputs": [
        {
          "output_type": "stream",
          "name": "stdout",
          "text": [
            "Accuracy on training set: 0.970\n",
            "Accuracy on test set: 0.968\n"
          ]
        }
      ]
    },
    {
      "cell_type": "code",
      "source": [
        "# Get predictions\n",
        "y_train_pred = tree.predict(X_train_selected)\n",
        "y_test_pred = tree.predict(X_test_selected)\n",
        "\n",
        "# Calculate F1-score\n",
        "train_f1 = f1_score(y_train, y_train_pred)\n",
        "test_f1 = f1_score(y_test, y_test_pred)\n",
        "\n",
        "print(\"F1 Score on Training Set: {:.3f}\".format(train_f1))\n",
        "print(\"F1 Score on Test Set: {:.3f}\".format(test_f1))"
      ],
      "metadata": {
        "colab": {
          "base_uri": "https://localhost:8080/"
        },
        "id": "2hoIPqcUe5cH",
        "outputId": "d79d7ce3-8ec7-44c7-dcce-637c87315a03"
      },
      "execution_count": 53,
      "outputs": [
        {
          "output_type": "stream",
          "name": "stdout",
          "text": [
            "F1 Score on Training Set: 0.969\n",
            "F1 Score on Test Set: 0.967\n"
          ]
        }
      ]
    },
    {
      "cell_type": "code",
      "source": [],
      "metadata": {
        "id": "ENlsp5KIjpGV"
      },
      "execution_count": null,
      "outputs": []
    }
  ]
}